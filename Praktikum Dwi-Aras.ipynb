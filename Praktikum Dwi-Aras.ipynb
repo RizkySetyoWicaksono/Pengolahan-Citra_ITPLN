{
 "cells": [
  {
   "cell_type": "markdown",
   "id": "22fb963f",
   "metadata": {},
   "source": [
    "## Import Library"
   ]
  },
  {
   "cell_type": "code",
   "execution_count": 1,
   "id": "cbe46c28",
   "metadata": {},
   "outputs": [],
   "source": [
    "import cv2 as cv\n",
    "import numpy as np\n",
    "from matplotlib import pyplot as plt"
   ]
  },
  {
   "cell_type": "code",
   "execution_count": 2,
   "id": "3c11f06f",
   "metadata": {},
   "outputs": [],
   "source": [
    "daun = cv.imread('daun.png',0)\n",
    "tinggi, lebar=daun.shape"
   ]
  },
  {
   "cell_type": "code",
   "execution_count": null,
   "id": "f89f39ef",
   "metadata": {},
   "outputs": [],
   "source": [
    "cv.imshow(\"Citra Asli\", daun)\n",
    "cv.waitKey(0)\n",
    "cv.destroyAllwindows()"
   ]
  },
  {
   "cell_type": "markdown",
   "id": "263bca61",
   "metadata": {},
   "source": [
    "## Pengembangan Dwi Aras"
   ]
  },
  {
   "cell_type": "code",
   "execution_count": 3,
   "id": "efb459fd",
   "metadata": {},
   "outputs": [],
   "source": [
    "nilai_ambang = 128\n",
    "daun_hasil = daun.copy()\n",
    "for x in range (tinggi):\n",
    "    for y in range(lebar):\n",
    "        if daun[x,y] < nilai_ambang :\n",
    "            daun_hasil[x,y] = 0\n",
    "        else:\n",
    "            daun_hasil[x,y] = 225"
   ]
  },
  {
   "cell_type": "code",
   "execution_count": null,
   "id": "9bb89740",
   "metadata": {},
   "outputs": [],
   "source": [
    "cv.imshow(\"Aras Daun\", daun_hasil)\n",
    "cv.waitKey(0)\n",
    "cv.destroyAllwindows()"
   ]
  },
  {
   "cell_type": "markdown",
   "id": "f02b5b60",
   "metadata": {},
   "source": [
    "## Menentukan Nilai Ambang Suatu Citra"
   ]
  },
  {
   "cell_type": "code",
   "execution_count": 4,
   "id": "440a6179",
   "metadata": {},
   "outputs": [],
   "source": [
    "def titeratif(image) :\n",
    "    tinggi, lebar = image.shape\n",
    "    t0 = 127\n",
    "    while(True):\n",
    "        rata_kiri = 0;\n",
    "        rata_kanan = 0;\n",
    "        jum_kiri = 0;\n",
    "        jum_kanan = 0;\n",
    "        for x in range(tinggi):\n",
    "            for y in range(lebar):\n",
    "                if(image[x,y] <= 127):\n",
    "                    rata_kiri = rata_kiri + image[x,y]\n",
    "                    jum_kiri = jum_kiri + 1\n",
    "                else :\n",
    "                    rata_kanan = rata_kanan + image[x,y]\n",
    "                    jum_kanan = jum_kanan + 1\n",
    "                \n",
    "        rata_kiri = rata_kiri / jum_kiri\n",
    "        rata_kanan = rata_kanan / jum_kanan\n",
    "        t1 = (rata_kiri + rata_kanan) / 2\n",
    "        if ((t0 - t1)< 1):\n",
    "            break\n",
    "        to = t1\n",
    "    return round(t1)"
   ]
  },
  {
   "cell_type": "code",
   "execution_count": 6,
   "id": "f8caa77d",
   "metadata": {},
   "outputs": [
    {
     "data": {
      "text/plain": [
       "131"
      ]
     },
     "execution_count": 6,
     "metadata": {},
     "output_type": "execute_result"
    }
   ],
   "source": [
    "titeratif(daun)"
   ]
  },
  {
   "cell_type": "markdown",
   "id": "c9c25589",
   "metadata": {},
   "source": [
    "## Aras Jamak"
   ]
  },
  {
   "cell_type": "code",
   "execution_count": 7,
   "id": "8a984b6b",
   "metadata": {},
   "outputs": [],
   "source": [
    "bentuk = cv.imread('aras.png',0)\n",
    "tinggi, lebar = bentuk.shape"
   ]
  },
  {
   "cell_type": "code",
   "execution_count": 8,
   "id": "1172b41a",
   "metadata": {},
   "outputs": [],
   "source": [
    "def aras(image, t1, t2):\n",
    "    res = image\n",
    "    m,n = image.shape\n",
    "    for x in range(m):\n",
    "        for y in range(n):\n",
    "            if (image[x,y] <= t1) or (image[x,y] >= t2):\n",
    "                res[x,y] = 0\n",
    "            else:\n",
    "                res[x,y] = 255\n",
    "    return res"
   ]
  },
  {
   "cell_type": "code",
   "execution_count": 10,
   "id": "ae1f8891",
   "metadata": {},
   "outputs": [],
   "source": [
    "bentukArasJamak = aras(bentuk, 185, 200)"
   ]
  },
  {
   "cell_type": "code",
   "execution_count": 12,
   "id": "603578bf",
   "metadata": {},
   "outputs": [],
   "source": [
    "cv.imshow('Gambar Aras Jamak', bentukArasJamak)\n",
    "cv.waitKey(0)\n",
    "cv.destroyAllWindows()"
   ]
  },
  {
   "cell_type": "markdown",
   "id": "be9ea78d",
   "metadata": {},
   "source": [
    "## Rizky Setyo Wicaksono 202131044"
   ]
  }
 ],
 "metadata": {
  "kernelspec": {
   "display_name": "Python 3 (ipykernel)",
   "language": "python",
   "name": "python3"
  },
  "language_info": {
   "codemirror_mode": {
    "name": "ipython",
    "version": 3
   },
   "file_extension": ".py",
   "mimetype": "text/x-python",
   "name": "python",
   "nbconvert_exporter": "python",
   "pygments_lexer": "ipython3",
   "version": "3.10.9"
  }
 },
 "nbformat": 4,
 "nbformat_minor": 5
}
